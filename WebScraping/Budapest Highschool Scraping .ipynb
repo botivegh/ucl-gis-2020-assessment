{
 "cells": [
  {
   "cell_type": "code",
   "execution_count": 4,
   "metadata": {},
   "outputs": [],
   "source": [
    "import pandas as pd\n",
    "import requests\n",
    "from bs4 import BeautifulSoup"
   ]
  },
  {
   "cell_type": "code",
   "execution_count": 92,
   "metadata": {},
   "outputs": [],
   "source": [
    "### Scrape All ID"
   ]
  },
  {
   "cell_type": "code",
   "execution_count": null,
   "metadata": {},
   "outputs": [],
   "source": []
  },
  {
   "cell_type": "code",
   "execution_count": 93,
   "metadata": {},
   "outputs": [
    {
     "name": "stdout",
     "output_type": "stream",
     "text": [
      "The 1. page Done!\n",
      "The 2. page Done!\n",
      "The 3. page Done!\n",
      "The 4. page Done!\n",
      "The 5. page Done!\n",
      "The 6. page Done!\n",
      "The 7. page Done!\n",
      "The 8. page Done!\n",
      "The 9. page Done!\n",
      "The 10. page Done!\n",
      "The 11. page Done!\n",
      "The 12. page Done!\n",
      "The 13. page Done!\n",
      "The 14. page Done!\n",
      "The 15. page Done!\n",
      "The 16. page Done!\n",
      "The 17. page Done!\n",
      "The 18. page Done!\n",
      "The 19. page Done!\n",
      "The 20. page Done!\n",
      "The 21. page Done!\n",
      "The 22. page Done!\n",
      "The 23. page Done!\n"
     ]
    }
   ],
   "source": [
    "url = 'https://www.oktatas.hu/kozneveles/intezmenykereso/intezmenyek_a_szamok_tukreben/erettsegi_statisztikak/!DARI_ErettsegiStat/oh.php?id=kir_erett_talalat&oldal='\n",
    "head = {'Cookie' : 'wcmid=user#21976512; DARI_ErettsegiStat-sessionid=uj5a81vqh5ll064p9tncv32tl2; Mainappstate-DARI_ErettsegiStat=%2Foh.php; DARI_Intezmenykereso-sessionid=c4vvvhg6g9vivaupgir6b0f695; Mainappstate-DARI_Intezmenykereso=%2Foh.php; Mainappstate-KIR_Intezmenykereso=%2FIntezmeny%2FIndex%2F035218'}\n",
    "OMs = []\n",
    "pages = 23\n",
    "for i in range(pages):\n",
    "    res = requests.get(url + str(i+1), headers=head)\n",
    "    soup = BeautifulSoup(res.content)\n",
    "    OMs.extend([tr.find_all('td')[1].text for tr in soup.find_all('tr')[2:-1]])\n",
    "    print(f'The {i+1}. page Done!')"
   ]
  },
  {
   "cell_type": "code",
   "execution_count": 95,
   "metadata": {},
   "outputs": [],
   "source": [
    "df = pd.DataFrame(data=OMs)"
   ]
  },
  {
   "cell_type": "code",
   "execution_count": 1,
   "metadata": {},
   "outputs": [
    {
     "ename": "NameError",
     "evalue": "name 'df' is not defined",
     "output_type": "error",
     "traceback": [
      "\u001b[1;31m---------------------------------------------------------------------------\u001b[0m",
      "\u001b[1;31mNameError\u001b[0m                                 Traceback (most recent call last)",
      "\u001b[1;32m<ipython-input-1-f548e5ebf0c0>\u001b[0m in \u001b[0;36m<module>\u001b[1;34m\u001b[0m\n\u001b[1;32m----> 1\u001b[1;33m \u001b[0mdf\u001b[0m\u001b[1;33m[\u001b[0m\u001b[0mdf\u001b[0m\u001b[1;33m.\u001b[0m\u001b[0mduplicated\u001b[0m\u001b[1;33m(\u001b[0m\u001b[1;33m)\u001b[0m\u001b[1;33m]\u001b[0m\u001b[1;33m.\u001b[0m\u001b[0munique\u001b[0m\u001b[1;33m(\u001b[0m\u001b[1;33m)\u001b[0m\u001b[1;33m\u001b[0m\u001b[1;33m\u001b[0m\u001b[0m\n\u001b[0m",
      "\u001b[1;31mNameError\u001b[0m: name 'df' is not defined"
     ]
    }
   ],
   "source": [
    "df[df.duplicated()].unique()"
   ]
  },
  {
   "cell_type": "code",
   "execution_count": 403,
   "metadata": {
    "collapsed": true
   },
   "outputs": [
    {
     "data": {
      "text/html": [
       "<div>\n",
       "<style scoped>\n",
       "    .dataframe tbody tr th:only-of-type {\n",
       "        vertical-align: middle;\n",
       "    }\n",
       "\n",
       "    .dataframe tbody tr th {\n",
       "        vertical-align: top;\n",
       "    }\n",
       "\n",
       "    .dataframe thead th {\n",
       "        text-align: right;\n",
       "    }\n",
       "</style>\n",
       "<table border=\"1\" class=\"dataframe\">\n",
       "  <thead>\n",
       "    <tr style=\"text-align: right;\">\n",
       "      <th></th>\n",
       "      <th>0</th>\n",
       "    </tr>\n",
       "  </thead>\n",
       "  <tbody>\n",
       "    <tr>\n",
       "      <th>0</th>\n",
       "      <td>027240</td>\n",
       "    </tr>\n",
       "    <tr>\n",
       "      <th>1</th>\n",
       "      <td>027264</td>\n",
       "    </tr>\n",
       "    <tr>\n",
       "      <th>2</th>\n",
       "      <td>027396</td>\n",
       "    </tr>\n",
       "    <tr>\n",
       "      <th>3</th>\n",
       "      <td>027397</td>\n",
       "    </tr>\n",
       "    <tr>\n",
       "      <th>4</th>\n",
       "      <td>027398</td>\n",
       "    </tr>\n",
       "    <tr>\n",
       "      <th>...</th>\n",
       "      <td>...</td>\n",
       "    </tr>\n",
       "    <tr>\n",
       "      <th>1115</th>\n",
       "      <td>203408</td>\n",
       "    </tr>\n",
       "    <tr>\n",
       "      <th>1116</th>\n",
       "      <td>203419</td>\n",
       "    </tr>\n",
       "    <tr>\n",
       "      <th>1117</th>\n",
       "      <td>203420</td>\n",
       "    </tr>\n",
       "    <tr>\n",
       "      <th>1118</th>\n",
       "      <td>203421</td>\n",
       "    </tr>\n",
       "    <tr>\n",
       "      <th>1119</th>\n",
       "      <td>203424</td>\n",
       "    </tr>\n",
       "  </tbody>\n",
       "</table>\n",
       "<p>1120 rows × 1 columns</p>\n",
       "</div>"
      ],
      "text/plain": [
       "           0\n",
       "0     027240\n",
       "1     027264\n",
       "2     027396\n",
       "3     027397\n",
       "4     027398\n",
       "...      ...\n",
       "1115  203408\n",
       "1116  203419\n",
       "1117  203420\n",
       "1118  203421\n",
       "1119  203424\n",
       "\n",
       "[1120 rows x 1 columns]"
      ]
     },
     "execution_count": 403,
     "metadata": {},
     "output_type": "execute_result"
    }
   ],
   "source": [
    "pd.DataFrame(data=OMs)"
   ]
  },
  {
   "cell_type": "code",
   "execution_count": null,
   "metadata": {},
   "outputs": [],
   "source": [
    "\n"
   ]
  },
  {
   "cell_type": "code",
   "execution_count": null,
   "metadata": {},
   "outputs": [],
   "source": []
  },
  {
   "cell_type": "code",
   "execution_count": 102,
   "metadata": {},
   "outputs": [],
   "source": [
    "## Test on Szilagyi"
   ]
  },
  {
   "cell_type": "code",
   "execution_count": 56,
   "metadata": {},
   "outputs": [],
   "source": [
    "omid = '035219'"
   ]
  },
  {
   "cell_type": "code",
   "execution_count": 57,
   "metadata": {},
   "outputs": [],
   "source": [
    "res = requests.get('https://www.oktatas.hu/kozneveles/intezmenykereso/koznevelesi_intezmenykereso/!DARI_Intezmenykereso/oh.php?id=kir_int_mod&int_omkod=' + omid)"
   ]
  },
  {
   "cell_type": "code",
   "execution_count": 58,
   "metadata": {},
   "outputs": [],
   "source": [
    "soup = BeautifulSoup(res.content)"
   ]
  },
  {
   "cell_type": "code",
   "execution_count": 59,
   "metadata": {},
   "outputs": [],
   "source": [
    "#Fotablazat\n",
    "html_admin = str(soup.findAll('table')[2])\n",
    "df_admin = pd.read_html(html_admin, index_col=1)[0].drop(columns=0).rename(columns={2 : 'value'})"
   ]
  },
  {
   "cell_type": "code",
   "execution_count": null,
   "metadata": {},
   "outputs": [],
   "source": []
  },
  {
   "cell_type": "code",
   "execution_count": 60,
   "metadata": {},
   "outputs": [],
   "source": [
    "## Data gather from admin table: \n",
    "\n",
    "#school_id = df_admin.loc['Az intézmény OM azonosítója:'][2]\n",
    "#school_name = df_admin.loc['Az intézmény megnevezése:'][2]\n",
    "#school_dean = df_admin.loc['Az intézmény vezetője:'][2]\n",
    "#school_dean_title = df_admin.loc['Beosztása:'].iloc[0][2]\n",
    "#school_address = df_admin.loc['Címe:'][2]\n",
    "#school_type = df_admin.loc['Ellátott feladatok:'][2].split(',')"
   ]
  },
  {
   "cell_type": "code",
   "execution_count": null,
   "metadata": {},
   "outputs": [],
   "source": []
  },
  {
   "cell_type": "code",
   "execution_count": 61,
   "metadata": {},
   "outputs": [],
   "source": [
    "#### Feladatellatasi hely"
   ]
  },
  {
   "cell_type": "code",
   "execution_count": 62,
   "metadata": {},
   "outputs": [],
   "source": [
    "html_sub_schools = soup.find(id='adat_felhely').findAll('table')[1::2]"
   ]
  },
  {
   "cell_type": "code",
   "execution_count": 63,
   "metadata": {},
   "outputs": [
    {
     "data": {
      "text/plain": [
       "1"
      ]
     },
     "execution_count": 63,
     "metadata": {},
     "output_type": "execute_result"
    }
   ],
   "source": [
    "len(html_sub_schools)"
   ]
  },
  {
   "cell_type": "code",
   "execution_count": 64,
   "metadata": {},
   "outputs": [],
   "source": [
    "df_subs = pd.concat(pd.read_html(str(html_sub_schools))).drop(columns=5).rename(columns={0:'sub_id',1 : 'sub_school', 2 : 'school_address', 3 : 'school_country', 4 : 'school_type'}).reset_index(drop=True)"
   ]
  },
  {
   "cell_type": "code",
   "execution_count": null,
   "metadata": {},
   "outputs": [],
   "source": []
  },
  {
   "cell_type": "code",
   "execution_count": 65,
   "metadata": {},
   "outputs": [],
   "source": [
    "#### Basic Stats on Children\n",
    "html_basics = str(soup.find('div', id='adata01t01').find('table'))\n",
    "html_teachers = str(soup.find('div', id='adata01t06').find('table'))\n",
    "html_students = str(soup.find('div', id='adata04t18').find('table'))\n",
    "\n"
   ]
  },
  {
   "cell_type": "code",
   "execution_count": 66,
   "metadata": {},
   "outputs": [],
   "source": [
    "df_basics = pd.read_html(html_basics,header=[0,1,2], index_col=0)[0]"
   ]
  },
  {
   "cell_type": "code",
   "execution_count": 67,
   "metadata": {},
   "outputs": [],
   "source": [
    "# Students\n",
    "df_teachers = pd.read_html(html_teachers, index_col=[1,2])[0].drop(columns=[0,4]).rename(columns={3 : 'count'})"
   ]
  },
  {
   "cell_type": "code",
   "execution_count": 68,
   "metadata": {},
   "outputs": [],
   "source": [
    "df_student = pd.read_html(html_students, index_col=0, header=[0,1,2])[0]"
   ]
  },
  {
   "cell_type": "code",
   "execution_count": 69,
   "metadata": {},
   "outputs": [],
   "source": [
    "### Competency Test - get the average of all recent results\n",
    "html_iq = str(soup.find('div', id='adat_okm2019').find('table'))"
   ]
  },
  {
   "cell_type": "code",
   "execution_count": 70,
   "metadata": {},
   "outputs": [],
   "source": [
    "df_iq  = pd.read_html(html_iq, header=1)[0].drop(columns='Unnamed: 0')"
   ]
  },
  {
   "cell_type": "code",
   "execution_count": 71,
   "metadata": {},
   "outputs": [],
   "source": [
    "#Get only One feladat ellatasi hely\n",
    "#df_iq[df_iq['Telephely megnevezése és címe'].str.contains(school_address)]"
   ]
  },
  {
   "cell_type": "code",
   "execution_count": null,
   "metadata": {},
   "outputs": [],
   "source": []
  },
  {
   "cell_type": "code",
   "execution_count": 72,
   "metadata": {},
   "outputs": [],
   "source": [
    "### Enrollment data 2020 - need more? maybe\n",
    "html_enroll2020 = str(soup.find('div', id='adat_kifir2020').find('table'))"
   ]
  },
  {
   "cell_type": "code",
   "execution_count": 73,
   "metadata": {},
   "outputs": [],
   "source": [
    "df_enroll2020 = pd.read_html(html_enroll2020, header=0)[0].drop(columns='Unnamed: 0')"
   ]
  },
  {
   "cell_type": "code",
   "execution_count": 74,
   "metadata": {},
   "outputs": [],
   "source": [
    "#Erettsegi\n",
    "\n",
    "html_2020 = soup.find('div', id='adat_stat2020_vtargy').findAll('table')[0::2]"
   ]
  },
  {
   "cell_type": "code",
   "execution_count": 75,
   "metadata": {},
   "outputs": [
    {
     "data": {
      "text/plain": [
       "1"
      ]
     },
     "execution_count": 75,
     "metadata": {},
     "output_type": "execute_result"
    }
   ],
   "source": [
    "len(html_2020) ### give you all table"
   ]
  },
  {
   "cell_type": "code",
   "execution_count": 76,
   "metadata": {},
   "outputs": [],
   "source": [
    "## by concat we create one unified table \n",
    "\n",
    "df_erett2020 = pd.concat(pd.read_html(str(html_2020), header=0)).drop(columns='Unnamed: 0').rename(columns={'Unnamed: 1' : 'Telephely megnevezése és címe'})"
   ]
  },
  {
   "cell_type": "code",
   "execution_count": 82,
   "metadata": {},
   "outputs": [],
   "source": [
    "df_collection = {\n",
    "    'omid' : omid,\n",
    "    'sub_school_len' : len(html_sub_schools),\n",
    "    'erettsegi_table_len' : len(html_2020),\n",
    "    'admin' : html_admin,\n",
    "    'sub_schools' : html_sub_schools,\n",
    "    'basic' : html_basics,\n",
    "    'students' : html_students,\n",
    "    'teachers' : html_teachers,\n",
    "    'iq_2019' : html_iq,\n",
    "    'erettsegi_2020' : html_2020,\n",
    "    'enroll_2020' : html_enroll2020\n",
    "    \n",
    "}"
   ]
  },
  {
   "cell_type": "code",
   "execution_count": 83,
   "metadata": {},
   "outputs": [
    {
     "data": {
      "text/html": [
       "<div>\n",
       "<style scoped>\n",
       "    .dataframe tbody tr th:only-of-type {\n",
       "        vertical-align: middle;\n",
       "    }\n",
       "\n",
       "    .dataframe tbody tr th {\n",
       "        vertical-align: top;\n",
       "    }\n",
       "\n",
       "    .dataframe thead th {\n",
       "        text-align: right;\n",
       "    }\n",
       "</style>\n",
       "<table border=\"1\" class=\"dataframe\">\n",
       "  <thead>\n",
       "    <tr style=\"text-align: right;\">\n",
       "      <th></th>\n",
       "      <th>omid</th>\n",
       "      <th>sub_school_len</th>\n",
       "      <th>erettsegi_table_len</th>\n",
       "      <th>admin</th>\n",
       "      <th>sub_schools</th>\n",
       "      <th>basic</th>\n",
       "      <th>students</th>\n",
       "      <th>teachers</th>\n",
       "      <th>iq_2019</th>\n",
       "      <th>erettsegi_2020</th>\n",
       "      <th>enroll_2020</th>\n",
       "    </tr>\n",
       "  </thead>\n",
       "  <tbody>\n",
       "    <tr>\n",
       "      <th>0</th>\n",
       "      <td>035219</td>\n",
       "      <td>1</td>\n",
       "      <td>1</td>\n",
       "      <td>&lt;table align=\"center\" border=\"0\" cellpadding=\"...</td>\n",
       "      <td>[\\n, [\\n, [001], \\n, [&lt;a class=\"slide\" id=\"001...</td>\n",
       "      <td>&lt;table align=\"center\" border=\"0\" cellpadding=\"...</td>\n",
       "      <td>&lt;table align=\"center\" border=\"0\" cellpadding=\"...</td>\n",
       "      <td>&lt;table align=\"center\" border=\"0\" cellpadding=\"...</td>\n",
       "      <td>&lt;table align=\"center\" border=\"0\" cellpadding=\"...</td>\n",
       "      <td>[\\n, [\\n, [ ], \\n, [ ], \\n, [érettségi vizsgat...</td>\n",
       "      <td>&lt;table align=\"center\" border=\"0\" cellpadding=\"...</td>\n",
       "    </tr>\n",
       "  </tbody>\n",
       "</table>\n",
       "</div>"
      ],
      "text/plain": [
       "     omid  sub_school_len  erettsegi_table_len  \\\n",
       "0  035219               1                    1   \n",
       "\n",
       "                                               admin  \\\n",
       "0  <table align=\"center\" border=\"0\" cellpadding=\"...   \n",
       "\n",
       "                                         sub_schools  \\\n",
       "0  [\\n, [\\n, [001], \\n, [<a class=\"slide\" id=\"001...   \n",
       "\n",
       "                                               basic  \\\n",
       "0  <table align=\"center\" border=\"0\" cellpadding=\"...   \n",
       "\n",
       "                                            students  \\\n",
       "0  <table align=\"center\" border=\"0\" cellpadding=\"...   \n",
       "\n",
       "                                            teachers  \\\n",
       "0  <table align=\"center\" border=\"0\" cellpadding=\"...   \n",
       "\n",
       "                                             iq_2019  \\\n",
       "0  <table align=\"center\" border=\"0\" cellpadding=\"...   \n",
       "\n",
       "                                      erettsegi_2020  \\\n",
       "0  [\\n, [\\n, [ ], \\n, [ ], \\n, [érettségi vizsgat...   \n",
       "\n",
       "                                         enroll_2020  \n",
       "0  <table align=\"center\" border=\"0\" cellpadding=\"...  "
      ]
     },
     "execution_count": 83,
     "metadata": {},
     "output_type": "execute_result"
    }
   ],
   "source": [
    "pd.DataFrame(df_collection)"
   ]
  },
  {
   "cell_type": "code",
   "execution_count": 85,
   "metadata": {},
   "outputs": [
    {
     "data": {
      "text/plain": [
       "dict_keys(['omid', 'sub_school_len', 'erettsegi_table_len', 'admin', 'sub_schools', 'basic', 'students', 'teachers', 'iq_2019', 'erettsegi_2020', 'enroll_2020'])"
      ]
     },
     "execution_count": 85,
     "metadata": {},
     "output_type": "execute_result"
    }
   ],
   "source": [
    "df_collection.keys()"
   ]
  },
  {
   "cell_type": "code",
   "execution_count": null,
   "metadata": {},
   "outputs": [],
   "source": [
    " "
   ]
  },
  {
   "cell_type": "code",
   "execution_count": null,
   "metadata": {},
   "outputs": [],
   "source": []
  },
  {
   "cell_type": "code",
   "execution_count": null,
   "metadata": {},
   "outputs": [],
   "source": []
  },
  {
   "cell_type": "code",
   "execution_count": 70,
   "metadata": {},
   "outputs": [],
   "source": [
    "################################################################################"
   ]
  },
  {
   "cell_type": "markdown",
   "metadata": {},
   "source": [
    "#### Basic Quantitative Data - Summerize for all subschools"
   ]
  },
  {
   "cell_type": "code",
   "execution_count": 45,
   "metadata": {},
   "outputs": [],
   "source": [
    "#### Basic Stats on Children\n",
    "t_basics = soup.find('div', id='adata01t01').find('table')\n",
    "t_teachers = soup.find('div', id='adata01t06').find('table')\n",
    "t_students = soup.find('div', id='adata04t18').find('table')\n"
   ]
  },
  {
   "cell_type": "code",
   "execution_count": 56,
   "metadata": {},
   "outputs": [
    {
     "data": {
      "text/html": [
       "<div>\n",
       "<style scoped>\n",
       "    .dataframe tbody tr th:only-of-type {\n",
       "        vertical-align: middle;\n",
       "    }\n",
       "\n",
       "    .dataframe tbody tr th {\n",
       "        vertical-align: top;\n",
       "    }\n",
       "\n",
       "    .dataframe thead tr th {\n",
       "        text-align: left;\n",
       "    }\n",
       "</style>\n",
       "<table border=\"1\" class=\"dataframe\">\n",
       "  <thead>\n",
       "    <tr>\n",
       "      <th></th>\n",
       "      <th>Összes feladatel-  látási helyek száma</th>\n",
       "      <th colspan=\"4\" halign=\"left\">Gyermekek, tanulók nyitó létszáma</th>\n",
       "      <th colspan=\"2\" halign=\"left\">Fő munkaviszony keretében pedagógus, oktató munkakörben alkalmazottak nyitóállománya</th>\n",
       "      <th>Osztályterem, szaktanterem / csoportszoba összesen</th>\n",
       "      <th>Osztályok, csoportok száma összesen</th>\n",
       "      <th colspan=\"2\" halign=\"left\">Nevelő és oktató munkát közvetlenül segítők, egyéb munkakörben dolgozók nyitóállománya</th>\n",
       "    </tr>\n",
       "    <tr>\n",
       "      <th></th>\n",
       "      <th>Összes feladatel-  látási helyek száma</th>\n",
       "      <th>Összesen</th>\n",
       "      <th colspan=\"3\" halign=\"left\">ebből</th>\n",
       "      <th>Összesen</th>\n",
       "      <th>ebből nők</th>\n",
       "      <th>Osztályterem, szaktanterem / csoportszoba összesen</th>\n",
       "      <th>Osztályok, csoportok száma összesen</th>\n",
       "      <th>Összesen</th>\n",
       "      <th>Ebből nők</th>\n",
       "    </tr>\n",
       "    <tr>\n",
       "      <th></th>\n",
       "      <th>Összes feladatel-  látási helyek száma</th>\n",
       "      <th>Összesen</th>\n",
       "      <th>leányok</th>\n",
       "      <th>gyógypeda-gógiai nevelésben, oktatásban résztvevők</th>\n",
       "      <th>felnőttok-tatásban részt vevők</th>\n",
       "      <th>Összesen</th>\n",
       "      <th>ebből nők</th>\n",
       "      <th>Osztályterem, szaktanterem / csoportszoba összesen</th>\n",
       "      <th>Osztályok, csoportok száma összesen</th>\n",
       "      <th>Összesen</th>\n",
       "      <th>Ebből nők</th>\n",
       "    </tr>\n",
       "  </thead>\n",
       "  <tbody>\n",
       "    <tr>\n",
       "      <th>Gimnázium</th>\n",
       "      <td>1</td>\n",
       "      <td>501</td>\n",
       "      <td>256</td>\n",
       "      <td>3</td>\n",
       "      <td>0</td>\n",
       "      <td>51</td>\n",
       "      <td>36</td>\n",
       "      <td>21</td>\n",
       "      <td>16</td>\n",
       "      <td>16</td>\n",
       "      <td>10</td>\n",
       "    </tr>\n",
       "    <tr>\n",
       "      <th>Összesen</th>\n",
       "      <td>1</td>\n",
       "      <td>501</td>\n",
       "      <td>256</td>\n",
       "      <td>3</td>\n",
       "      <td>0</td>\n",
       "      <td>51</td>\n",
       "      <td>36</td>\n",
       "      <td>21</td>\n",
       "      <td>16</td>\n",
       "      <td>16</td>\n",
       "      <td>10</td>\n",
       "    </tr>\n",
       "  </tbody>\n",
       "</table>\n",
       "</div>"
      ],
      "text/plain": [
       "          Összes feladatel-  látási helyek száma  \\\n",
       "          Összes feladatel-  látási helyek száma   \n",
       "          Összes feladatel-  látási helyek száma   \n",
       "Gimnázium                                      1   \n",
       "Összesen                                       1   \n",
       "\n",
       "          Gyermekek, tanulók nyitó létszáma          \\\n",
       "                                   Összesen   ebből   \n",
       "                                   Összesen leányok   \n",
       "Gimnázium                               501     256   \n",
       "Összesen                                501     256   \n",
       "\n",
       "                                                              \\\n",
       "                                                               \n",
       "          gyógypeda-gógiai nevelésben, oktatásban résztvevők   \n",
       "Gimnázium                                                  3   \n",
       "Összesen                                                   3   \n",
       "\n",
       "                                          \\\n",
       "                                           \n",
       "          felnőttok-tatásban részt vevők   \n",
       "Gimnázium                              0   \n",
       "Összesen                               0   \n",
       "\n",
       "          Fő munkaviszony keretében pedagógus, oktató munkakörben alkalmazottak nyitóállománya  \\\n",
       "                                                                                      Összesen   \n",
       "                                                                                      Összesen   \n",
       "Gimnázium                                                 51                                     \n",
       "Összesen                                                  51                                     \n",
       "\n",
       "                    Osztályterem, szaktanterem / csoportszoba összesen  \\\n",
       "          ebből nők Osztályterem, szaktanterem / csoportszoba összesen   \n",
       "          ebből nők Osztályterem, szaktanterem / csoportszoba összesen   \n",
       "Gimnázium        36                                                 21   \n",
       "Összesen         36                                                 21   \n",
       "\n",
       "          Osztályok, csoportok száma összesen  \\\n",
       "          Osztályok, csoportok száma összesen   \n",
       "          Osztályok, csoportok száma összesen   \n",
       "Gimnázium                                  16   \n",
       "Összesen                                   16   \n",
       "\n",
       "          Nevelő és oktató munkát közvetlenül segítők, egyéb munkakörben dolgozók nyitóállománya  \\\n",
       "                                                                                        Összesen   \n",
       "                                                                                        Összesen   \n",
       "Gimnázium                                                 16                                       \n",
       "Összesen                                                  16                                       \n",
       "\n",
       "                     \n",
       "          Ebből nők  \n",
       "          Ebből nők  \n",
       "Gimnázium        10  \n",
       "Összesen         10  "
      ]
     },
     "execution_count": 56,
     "metadata": {},
     "output_type": "execute_result"
    }
   ],
   "source": [
    "\n",
    "df_basics"
   ]
  },
  {
   "cell_type": "markdown",
   "metadata": {},
   "source": [
    "##### Basics"
   ]
  },
  {
   "cell_type": "code",
   "execution_count": 295,
   "metadata": {},
   "outputs": [],
   "source": [
    "df_basics  = pd.read_html(str(t_basics),header=0, index_col=0)[0]\n",
    "\n",
    "no_hs_student = df_basics['Gyermekek, tanulók nyitó létszáma'].loc['Gimnázium']  \n",
    "no_hs_student_female = df_basics['Gyermekek, tanulók nyitó létszáma.1'].loc['Gimnázium']  \n",
    "no_rooms = df_basics['Osztályterem, szaktanterem / csoportszoba összesen'].loc['Gimnázium']\n",
    "no_classes= df_basics['Osztályok, csoportok száma összesen'].loc['Gimnázium']  "
   ]
  },
  {
   "cell_type": "markdown",
   "metadata": {},
   "source": [
    "##### Students"
   ]
  },
  {
   "cell_type": "code",
   "execution_count": 296,
   "metadata": {},
   "outputs": [],
   "source": [
    "df_students = pd.read_html(str(t_students), index_col=[1,2])[0]\n",
    "\n",
    "### tons of important info ignored here\n",
    "no_fail = df_students.loc[('évfolyamismétlő','évfolyamismétlő')][3]"
   ]
  },
  {
   "cell_type": "markdown",
   "metadata": {},
   "source": [
    "##### Teachers"
   ]
  },
  {
   "cell_type": "code",
   "execution_count": 297,
   "metadata": {},
   "outputs": [],
   "source": [
    "df_teachers = pd.read_html(str(t_teachers), index_col=0, header=0)[0]\n",
    "fulltime_teachers = df_teachers['Összesen'].loc['Teljes munkaidős']\n",
    "parttime_teachers = df_teachers['Összesen'].loc['Részmunkaidős']\n",
    "total_teachers = df_teachers['Összesen'].loc['Összesen']"
   ]
  },
  {
   "cell_type": "markdown",
   "metadata": {},
   "source": [
    "### Competency test"
   ]
  },
  {
   "cell_type": "code",
   "execution_count": 298,
   "metadata": {},
   "outputs": [],
   "source": [
    "### Competency Test - get the average of all recent results\n",
    "\n",
    "t_iq = soup.find('div', id='adat_okm2019').find('table')\n",
    "df_competency = pd.read_html(str(t_iq),index_col=3, header=1)[0]\n",
    "\n",
    "math_competency = df_competency['Matematika'].mean()\n",
    "lit_competency = df_competency['Szövegértés'].mean()"
   ]
  },
  {
   "cell_type": "markdown",
   "metadata": {},
   "source": [
    "### Erettsegi test"
   ]
  },
  {
   "cell_type": "code",
   "execution_count": 299,
   "metadata": {},
   "outputs": [],
   "source": [
    "### Erettsegi Tables - GSCI\n",
    "\n",
    "t_2018= soup.find('div', id='adat_stat2018_vtargy').find('table')\n",
    "t_2019= soup.find('div', id='adat_stat2019_vtargy').find('table')\n",
    "t_2020= soup.find('div', id='adat_stat2020_vtargy').find('table')"
   ]
  },
  {
   "cell_type": "code",
   "execution_count": 300,
   "metadata": {},
   "outputs": [],
   "source": [
    "df_erett_2020 = pd.read_html(str(t_2020), header=0)[0]"
   ]
  },
  {
   "cell_type": "code",
   "execution_count": 301,
   "metadata": {},
   "outputs": [],
   "source": [
    "hu_gcse = df_erett_2020[(df_erett_2020['érettségi vizsgatárgy']=='magyar nyelv és irodalom') & (df_erett_2020['szint']=='közép')][['jelentkezők száma', 'százalékos átlag','osztályzat átlag']].values\n",
    "hu_gcse_pop,hu_gcse_perc,hu_gcse_avg = hu_gcse[0] if len(hu_gcse)==1 else [None,None,None]\n",
    "\n",
    "hu_A = df_erett_2020[(df_erett_2020['érettségi vizsgatárgy']=='magyar nyelv és irodalom') & (df_erett_2020['szint']=='emelt')][['jelentkezők száma', 'százalékos átlag','osztályzat átlag']].values\n",
    "hu_A_pop,hu_A_perc,hu_A_avg = hu_A[0] if len(hu_A)==1 else [None,None,None]\n",
    "\n",
    "math_gcse = df_erett_2020[(df_erett_2020['érettségi vizsgatárgy']=='matematika') & (df_erett_2020['szint']=='közép')][['jelentkezők száma', 'százalékos átlag','osztályzat átlag']].values\n",
    "math_gcse_pop,math_gcse_perc,math_gcse_avg = math_gcse[0] if len(math_gcse)==1 else [None,None,None]\n",
    "\n",
    "math_A = df_erett_2020[(df_erett_2020['érettségi vizsgatárgy']=='matematika') & (df_erett_2020['szint']=='emelt')][['jelentkezők száma', 'százalékos átlag','osztályzat átlag']].values\n",
    "math_A_pop,math_A_perc,math_A_avg = math_A[0] if len(math_A)==1 else [None,None,None]\n",
    "\n",
    "hist_gcse = df_erett_2020[(df_erett_2020['érettségi vizsgatárgy']=='történelem') & (df_erett_2020['szint']=='közép')][['jelentkezők száma', 'százalékos átlag','osztályzat átlag']].values\n",
    "hist_gcse_pop,hist_gcse_perc,hist_gcse_avg = hist_gcse[0] if len(hist_gcse)==1 else [None,None,None]\n",
    "\n",
    "hist_A = df_erett_2020[(df_erett_2020['érettségi vizsgatárgy']=='történelem') & (df_erett_2020['szint']=='emelt')][['jelentkezők száma', 'százalékos átlag','osztályzat átlag']].values\n",
    "hist_A_pop,hist_A_perc,hist_A_avg = hist_A[0] if len(hist_A)==1 else [None,None,None]\n",
    "\n",
    "eng_gcse = df_erett_2020[(df_erett_2020['érettségi vizsgatárgy']=='angol nyelv') & (df_erett_2020['szint']=='közép')][['jelentkezők száma', 'százalékos átlag','osztályzat átlag']].values\n",
    "eng_gcse_pop,eng_gcse_perc,eng_gcse_avg = eng_gcse[0] if len(eng_gcse)==1 else [None,None,None]\n",
    "\n",
    "eng_A= df_erett_2020[(df_erett_2020['érettségi vizsgatárgy']=='angol nyelv') & (df_erett_2020['szint']=='emelt')][['jelentkezők száma', 'százalékos átlag','osztályzat átlag']].values\n",
    "eng_A_pop,eng_A_perc,eng_A_avg = eng_A[0] if len(eng_A)==1 else [None,None,None]\n"
   ]
  },
  {
   "cell_type": "markdown",
   "metadata": {},
   "source": [
    "### Acceptence Rate"
   ]
  },
  {
   "cell_type": "code",
   "execution_count": 302,
   "metadata": {},
   "outputs": [],
   "source": [
    "### Enrollment data\n",
    "t_enroll2019 = soup.find('div', id='adat_kifir2019').find('table')"
   ]
  },
  {
   "cell_type": "code",
   "execution_count": 303,
   "metadata": {},
   "outputs": [],
   "source": [
    "## Calcualte applied and accepted rates\n",
    "\n",
    "enroll2019 = pd.read_html(str(t_enroll2019), header=0)[0]\n",
    "\n",
    "first_place_acceptance_rate = enroll2019['1. helyen jelentkezettek közül a felvettek száma'].sum()/ enroll2019['Jelentkezők száma'].sum()\n",
    "acceptance_rate = enroll2019['Felvettek száma'].sum() / enroll2019['Jelentkezők száma'].sum()"
   ]
  },
  {
   "cell_type": "code",
   "execution_count": 304,
   "metadata": {},
   "outputs": [
    {
     "name": "stdout",
     "output_type": "stream",
     "text": [
      "BeautifulSoup\t acceptance_rate\t acceptence_rate\t address_id\t df_admin\t df_basics\t df_competency\t df_erett_2020\t df_students\t \n",
      "df_teachers\t eng_A\t eng_A_avg\t eng_A_perc\t eng_A_pop\t eng_gcse\t eng_gcse_avg\t eng_gcse_perc\t eng_gcse_pop\t \n",
      "enroll2019\t first_place_acceptance_rate\t first_place_acceptence_rate\t fulltime_teachers\t hist_A\t hist_A_avg\t hist_A_perc\t hist_A_pop\t hist_gcse\t \n",
      "hist_gcse_avg\t hist_gcse_perc\t hist_gcse_pop\t hu_A\t hu_A_avg\t hu_A_perc\t hu_A_pop\t hu_gcse\t hu_gcse_avg\t \n",
      "hu_gcse_perc\t hu_gcse_pop\t hu_gcse_res\t lit_competency\t math_A\t math_A_avg\t math_A_perc\t math_A_pop\t math_competency\t \n",
      "math_gcse\t math_gcse_avg\t math_gcse_perc\t math_gcse_pop\t no_classes\t no_fail\t no_hs_student\t no_hs_student_female\t no_rooms\t \n",
      "parttime_teachers\t pd\t requests\t res\t school_address\t school_dean\t school_dean_title\t school_id\t school_name\t \n",
      "school_type\t soup\t t_2017\t t_2018\t t_2019\t t_2020\t t_basics\t t_enroll2019\t t_iq\t \n",
      "t_students\t t_teachers\t test_table\t total_teachers\t \n"
     ]
    }
   ],
   "source": [
    "%who"
   ]
  },
  {
   "cell_type": "code",
   "execution_count": 338,
   "metadata": {},
   "outputs": [],
   "source": [
    "cols = ['school_id',\n",
    "'school_name ',\n",
    "'school_dean' ,\n",
    "'school_dean_title',\n",
    "'school_address',\n",
    "'school_type',\n",
    "'no_hs_student',\n",
    "'no_hs_student_female' ,\n",
    "'no_rooms ',\n",
    "'no_classes',\n",
    "'no_fail', \n",
    "'fulltime_teachers',\n",
    "'parttime_teachers',\n",
    "'total_teachers',\n",
    "'first_place_acceptance_rate', \n",
    "'acceptance_rate',\n",
    "'hu_gcse_pop','hu_gcse_perc','hu_gcse_avg',\n",
    "'hu_A_pop','hu_A_perc','hu_A_avg',\n",
    "'math_gcse_pop','math_gcse_perc','math_gcse_avg',\n",
    "'math_A_pop','math_A_perc','math_A_avg', \n",
    "'hist_gcse_pop','hist_gcse_perc','hist_gcse_avg',\n",
    "'hist_A_pop','hist_A_perc','hist_A_avg',\n",
    "'eng_gcse_pop','eng_gcse_perc','eng_gcse_avg',\n",
    "'eng_A_pop','eng_A_perc','eng_A_avg',\n",
    "'math_competency','lit_competency']"
   ]
  },
  {
   "cell_type": "code",
   "execution_count": null,
   "metadata": {},
   "outputs": [],
   "source": []
  },
  {
   "cell_type": "code",
   "execution_count": 341,
   "metadata": {},
   "outputs": [
    {
     "data": {
      "text/html": [
       "<div>\n",
       "<style scoped>\n",
       "    .dataframe tbody tr th:only-of-type {\n",
       "        vertical-align: middle;\n",
       "    }\n",
       "\n",
       "    .dataframe tbody tr th {\n",
       "        vertical-align: top;\n",
       "    }\n",
       "\n",
       "    .dataframe thead th {\n",
       "        text-align: right;\n",
       "    }\n",
       "</style>\n",
       "<table border=\"1\" class=\"dataframe\">\n",
       "  <thead>\n",
       "    <tr style=\"text-align: right;\">\n",
       "      <th></th>\n",
       "      <th>school_id</th>\n",
       "      <th>school_name</th>\n",
       "      <th>school_dean</th>\n",
       "      <th>school_dean_title</th>\n",
       "      <th>school_address</th>\n",
       "      <th>school_type</th>\n",
       "      <th>no_hs_student</th>\n",
       "      <th>no_hs_student_female</th>\n",
       "      <th>no_rooms</th>\n",
       "      <th>no_classes</th>\n",
       "      <th>...</th>\n",
       "      <th>hist_gcse_avg</th>\n",
       "      <th>hist_A_pop</th>\n",
       "      <th>hist_A_perc</th>\n",
       "      <th>hist_A_avg</th>\n",
       "      <th>eng_gcse_pop</th>\n",
       "      <th>eng_gcse_perc</th>\n",
       "      <th>eng_gcse_avg</th>\n",
       "      <th>eng_A_pop</th>\n",
       "      <th>eng_A_perc</th>\n",
       "      <th>eng_A_avg</th>\n",
       "    </tr>\n",
       "  </thead>\n",
       "  <tbody>\n",
       "    <tr>\n",
       "      <th>0</th>\n",
       "      <td>035219</td>\n",
       "      <td>Budapest I. Kerületi Szilágyi Erzsébet Gimnázium</td>\n",
       "      <td>Bajkó Judit</td>\n",
       "      <td>intézményvezető</td>\n",
       "      <td>1016 Budapest I. kerület, Mészáros utca 5-7.</td>\n",
       "      <td>[8 évfolyamos gimnáziumi nevelés-oktatás]</td>\n",
       "      <td>501</td>\n",
       "      <td>256</td>\n",
       "      <td>21</td>\n",
       "      <td>16</td>\n",
       "      <td>...</td>\n",
       "      <td>4.65</td>\n",
       "      <td>8</td>\n",
       "      <td>73 %</td>\n",
       "      <td>4.88</td>\n",
       "      <td>19</td>\n",
       "      <td>88 %</td>\n",
       "      <td>4.89</td>\n",
       "      <td>25</td>\n",
       "      <td>77 %</td>\n",
       "      <td>4.76</td>\n",
       "    </tr>\n",
       "  </tbody>\n",
       "</table>\n",
       "<p>1 rows × 40 columns</p>\n",
       "</div>"
      ],
      "text/plain": [
       "  school_id                                      school_name   school_dean  \\\n",
       "0    035219  Budapest I. Kerületi Szilágyi Erzsébet Gimnázium  Bajkó Judit   \n",
       "\n",
       "  school_dean_title                                school_address  \\\n",
       "0   intézményvezető  1016 Budapest I. kerület, Mészáros utca 5-7.   \n",
       "\n",
       "                                 school_type no_hs_student  \\\n",
       "0  [8 évfolyamos gimnáziumi nevelés-oktatás]           501   \n",
       "\n",
       "  no_hs_student_female no_rooms  no_classes  ... hist_gcse_avg hist_A_pop  \\\n",
       "0                  256        21         16  ...          4.65          8   \n",
       "\n",
       "  hist_A_perc hist_A_avg eng_gcse_pop eng_gcse_perc eng_gcse_avg eng_A_pop  \\\n",
       "0        73 %       4.88           19          88 %         4.89        25   \n",
       "\n",
       "  eng_A_perc eng_A_avg  \n",
       "0       77 %      4.76  \n",
       "\n",
       "[1 rows x 40 columns]"
      ]
     },
     "execution_count": 341,
     "metadata": {},
     "output_type": "execute_result"
    }
   ],
   "source": [
    "pd.DataFrame(data=[school_id,\n",
    "                    school_name ,\n",
    "                    school_dean ,\n",
    "                    school_dean_title,\n",
    "                    school_address,\n",
    "                    school_type,\n",
    "                    no_hs_student,\n",
    "                    no_hs_student_female ,\n",
    "                    no_rooms ,\n",
    "                    no_classes,\n",
    "                    no_fail, \n",
    "                    fulltime_teachers,\n",
    "                    parttime_teachers,\n",
    "                    total_teachers,\n",
    "                    first_place_acceptance_rate, \n",
    "                    acceptance_rate,\n",
    "                    hu_gcse_pop,hu_gcse_perc,hu_gcse_avg,\n",
    "                    hu_A_pop,hu_A_perc,hu_A_avg,\n",
    "                    math_gcse_pop,math_gcse_perc,math_gcse_avg,\n",
    "                    math_A_pop,math_A_perc,math_A_avg, \n",
    "                    hist_gcse_pop,hist_gcse_perc,hist_gcse_avg,\n",
    "                    hist_A_pop,hist_A_perc,hist_A_avg,\n",
    "                    eng_gcse_pop,eng_gcse_perc,eng_gcse_avg,\n",
    "                    eng_A_pop,eng_A_perc,eng_A_avg,\n",
    "                    math_competency,lit_competency\n",
    "                    ],index=cols).T"
   ]
  },
  {
   "cell_type": "code",
   "execution_count": null,
   "metadata": {},
   "outputs": [],
   "source": [
    " "
   ]
  },
  {
   "cell_type": "code",
   "execution_count": null,
   "metadata": {},
   "outputs": [],
   "source": []
  },
  {
   "cell_type": "code",
   "execution_count": null,
   "metadata": {},
   "outputs": [],
   "source": []
  }
 ],
 "metadata": {
  "kernelspec": {
   "display_name": "Python 3",
   "language": "python",
   "name": "python3"
  },
  "language_info": {
   "codemirror_mode": {
    "name": "ipython",
    "version": 3
   },
   "file_extension": ".py",
   "mimetype": "text/x-python",
   "name": "python",
   "nbconvert_exporter": "python",
   "pygments_lexer": "ipython3",
   "version": "3.8.3"
  }
 },
 "nbformat": 4,
 "nbformat_minor": 4
}
